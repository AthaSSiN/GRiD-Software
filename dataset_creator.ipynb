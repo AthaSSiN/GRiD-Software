{
  "nbformat": 4,
  "nbformat_minor": 0,
  "metadata": {
    "colab": {
      "name": "Untitled19.ipynb",
      "provenance": []
    },
    "kernelspec": {
      "name": "python3",
      "display_name": "Python 3"
    }
  },
  "cells": [
    {
      "cell_type": "code",
      "metadata": {
        "id": "uwiGp5KOkYyf",
        "colab_type": "code",
        "colab": {}
      },
      "source": [
        "import pandas as pd\n",
        "from pandas import ExcelWriter\n",
        "from pandas import ExcelFile\n",
        "import os\n",
        "def oneDayImg(day):\n",
        "  dfa=pd.read_excel(str(day)+'A.xlsx')\n",
        "  la=list(dfa['Image'])\n",
        "  dfb = pd.read_excel(str(day)+'B.xlsx')\n",
        "  lb=list(dfb['Image'])\n",
        "  return (la+lb)"
      ],
      "execution_count": 1,
      "outputs": []
    },
    {
      "cell_type": "code",
      "metadata": {
        "id": "SSDaweTaku4Q",
        "colab_type": "code",
        "colab": {}
      },
      "source": [
        "! pip install tqdm\n",
        "! pip install wget"
      ],
      "execution_count": null,
      "outputs": []
    },
    {
      "cell_type": "code",
      "metadata": {
        "id": "Mlp44ETzk1eB",
        "colab_type": "code",
        "colab": {}
      },
      "source": [
        "% cd ~\n",
        "% cd ..\n",
        "% cd content\n",
        "! mkdir img"
      ],
      "execution_count": null,
      "outputs": []
    },
    {
      "cell_type": "code",
      "metadata": {
        "id": "2Ua-A2hilLyW",
        "colab_type": "code",
        "colab": {}
      },
      "source": [
        "import wget\n",
        "from tqdm import tqdm\n",
        "def listDownloader(day):\n",
        "  os.chdir(\"/content/drive/My Drive/dataset/nordstrom\")\n",
        "  l=oneDayImg(day)\n",
        "  directory=str(day)\n",
        "  os.chdir(\"/content/img\")\n",
        "  os.mkdir(directory)\n",
        "  os.chdir(directory)\n",
        "  for i in tqdm(range(len(l))):\n",
        "    url=str(l[i])\n",
        "    try:\n",
        "      url=url.split(\"?\",1)[0]\n",
        "      wget.download(url,str(i)+'.jpg')\n",
        "    except:\n",
        "      print(\"Something went wrong\")"
      ],
      "execution_count": 5,
      "outputs": []
    },
    {
      "cell_type": "code",
      "metadata": {
        "id": "fLs1Bym2lWYH",
        "colab_type": "code",
        "colab": {}
      },
      "source": [
        "start=1\n",
        "end=15"
      ],
      "execution_count": 6,
      "outputs": []
    },
    {
      "cell_type": "code",
      "metadata": {
        "id": "H46WsoKXlRRo",
        "colab_type": "code",
        "colab": {}
      },
      "source": [
        "for i in range(start,end):  \n",
        "  listDownloader(i)"
      ],
      "execution_count": null,
      "outputs": []
    }
  ]
}
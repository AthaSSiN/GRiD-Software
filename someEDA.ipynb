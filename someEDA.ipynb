{
  "nbformat": 4,
  "nbformat_minor": 0,
  "metadata": {
    "colab": {
      "name": "someEDA.ipynb",
      "provenance": [],
      "include_colab_link": true
    },
    "kernelspec": {
      "name": "python3",
      "display_name": "Python 3"
    },
    "accelerator": "GPU"
  },
  "cells": [
    {
      "cell_type": "markdown",
      "metadata": {
        "id": "view-in-github",
        "colab_type": "text"
      },
      "source": [
        "<a href=\"https://colab.research.google.com/github/ShivenTripathi/GRiD-R2-2020/blob/master/someEDA.ipynb\" target=\"_parent\"><img src=\"https://colab.research.google.com/assets/colab-badge.svg\" alt=\"Open In Colab\"/></a>"
      ]
    },
    {
      "cell_type": "code",
      "metadata": {
        "id": "InDJJimA_APy",
        "colab_type": "code",
        "colab": {
          "base_uri": "https://localhost:8080/",
          "height": 139
        },
        "outputId": "4f4a8d7e-0028-4987-e85a-ec0e1288d7c6"
      },
      "source": [
        "from google.colab import drive\n",
        "drive.mount('/content/drive')\n",
        "% cd /content/drive/My Drive/dataset/nordstrom/attributes"
      ],
      "execution_count": null,
      "outputs": [
        {
          "output_type": "stream",
          "text": [
            "Go to this URL in a browser: https://accounts.google.com/o/oauth2/auth?client_id=947318989803-6bn6qk8qdgf4n4g3pfee6491hc0brc4i.apps.googleusercontent.com&redirect_uri=urn%3aietf%3awg%3aoauth%3a2.0%3aoob&response_type=code&scope=email%20https%3a%2f%2fwww.googleapis.com%2fauth%2fdocs.test%20https%3a%2f%2fwww.googleapis.com%2fauth%2fdrive%20https%3a%2f%2fwww.googleapis.com%2fauth%2fdrive.photos.readonly%20https%3a%2f%2fwww.googleapis.com%2fauth%2fpeopleapi.readonly\n",
            "\n",
            "Enter your authorization code:\n",
            "··········\n",
            "Mounted at /content/drive\n",
            "/content/drive/My Drive/dataset/nordstrom/attributes\n"
          ],
          "name": "stdout"
        }
      ]
    },
    {
      "cell_type": "code",
      "metadata": {
        "id": "HnDksqOqKksU",
        "colab_type": "code",
        "colab": {
          "base_uri": "https://localhost:8080/",
          "height": 71
        },
        "outputId": "3422890e-0b31-496b-cd56-275999c4845f"
      },
      "source": [
        "import pandas\n",
        "import matplotlib.pyplot as plt\n",
        "import seaborn as sns\n",
        "import numpy as np"
      ],
      "execution_count": null,
      "outputs": [
        {
          "output_type": "stream",
          "text": [
            "/usr/local/lib/python3.6/dist-packages/statsmodels/tools/_testing.py:19: FutureWarning: pandas.util.testing is deprecated. Use the functions in the public API at pandas.testing instead.\n",
            "  import pandas.util.testing as tm\n"
          ],
          "name": "stderr"
        }
      ]
    },
    {
      "cell_type": "code",
      "metadata": {
        "id": "JOCYW6sp5rz9",
        "colab_type": "code",
        "colab": {}
      },
      "source": [
        "#LOAD ATTR CATEGORIES\n",
        "f = open(\"list_attr_cloth.txt\", \"r\")\n",
        "att_type=[]\n",
        "i=0\n",
        "for x in f:\n",
        "  if i>1:\n",
        "    x=x.split()\n",
        "    att_type.append(int(x[len(x)-1]))\n",
        "  i=i+1 \n",
        "f.close()"
      ],
      "execution_count": null,
      "outputs": []
    },
    {
      "cell_type": "code",
      "metadata": {
        "id": "yKNCiMZgB9za",
        "colab_type": "code",
        "colab": {}
      },
      "source": [
        "def dfGen(day):\n",
        "  filename=str(day)+\"A.txt\"\n",
        "  #LOAD IMG NAMES\n",
        "  f = open(filename, \"r\")\n",
        "  file_names=[]\n",
        "  i=2\n",
        "  for x in f:\n",
        "    if i%3==0:\n",
        "      file_names.append(x)\n",
        "    i=i+1  \n",
        "  f.close()\n",
        "  \n",
        "  #LOAD ATTRIBUTES FOR EACH IMAGE\n",
        "  f = open(filename, \"r\")\n",
        "  att_number=[]\n",
        "  i=1\n",
        "  for x in f:\n",
        "    if i%3==0:\n",
        "      x = x.split(\",\")\n",
        "      y=[]\n",
        "      for j in range(10):\n",
        "        y.append(int(x[j]))\n",
        "      att_number.append(y)\n",
        "    i=i+1  \n",
        "  f.close()\n",
        "\n",
        "  #CATEGORISE ATTRIBUTES\n",
        "  att=[]\n",
        "  for i in range(len(att_number)):\n",
        "    a=[]\n",
        "    for j in range(5):\n",
        "      f=0\n",
        "      for k in range(10):\n",
        "        if att_type[att_number[i][k]]==j+1:\n",
        "          f=f+1\n",
        "          if f==1:\n",
        "            b=att_number[i][k]\n",
        "          if f==2:\n",
        "            b=att_number[i][k]\n",
        "      if f==0:\n",
        "        b=-1  \n",
        "      a.append(b)\n",
        "    att.append(a)\n",
        "\n",
        "  #FINAL LIST OF  SECOND MOST POPULAR ATTRIBUTES\n",
        "  att1=[]\n",
        "  for i in range(5):\n",
        "    t=[]\n",
        "    for j in range(len(att)):\n",
        "      t.append(att[j][i])\n",
        "    att1.append(t)  \n",
        "\n",
        "  #CONVERT TO A DATAFRAME\n",
        "  df = pandas.DataFrame(data={\"source\": file_names, \"att1\": att1[0], \"att2\": att1[1], \"att3\": att1[2], \"att4\": att1[3], \"att5\": att1[4]})\n",
        "  df.to_csv(\"./file.csv\", sep=',',index=False)\n",
        "\n",
        "  return df"
      ],
      "execution_count": null,
      "outputs": []
    },
    {
      "cell_type": "code",
      "metadata": {
        "id": "UqlzxS4uHab-",
        "colab_type": "code",
        "colab": {}
      },
      "source": [
        "def plotAttr(attr,days=7):\n",
        "  entries=[]\n",
        "  for i in range(7):\n",
        "    entries.append([])\n",
        "  max_plots=0\n",
        "  for i in range(1,days+1):\n",
        "    df=dfGen(i)\n",
        "    a=(df['att'+str(attr)].value_counts()/len(df.index)).to_frame('counts').transpose()\n",
        "    j=0\n",
        "    for column in a.columns:\n",
        "      entries[j].append(a.iloc[0][column])\n",
        "      j+=1\n",
        "    max_plots=max(max_plots,j)\n",
        "  try:\n",
        "    for i in range(max_plots):\n",
        "      plt.plot(np.arange(1,8),entries[i])\n",
        "    plt.show()\n",
        "  except:\n",
        "    pass"
      ],
      "execution_count": null,
      "outputs": []
    },
    {
      "cell_type": "code",
      "metadata": {
        "id": "dEZcI_VnOVQX",
        "colab_type": "code",
        "colab": {
          "base_uri": "https://localhost:8080/",
          "height": 265
        },
        "outputId": "05d2d769-f697-4564-c3a5-ddbbcebd5966"
      },
      "source": [
        "plotAttr(2)"
      ],
      "execution_count": null,
      "outputs": [
        {
          "output_type": "display_data",
          "data": {
            "image/png": "[encoded data removed]",
            "text/plain": [
              "<Figure size 432x288 with 1 Axes>"
            ]
          },
          "metadata": {
            "tags": [],
            "needs_background": "light"
          }
        }
      ]
    },
    {
      "cell_type": "code",
      "metadata": {
        "id": "ue7BpJ2FPYhO",
        "colab_type": "code",
        "colab": {}
      },
      "source": [
        ""
      ],
      "execution_count": null,
      "outputs": []
    }
  ]
}
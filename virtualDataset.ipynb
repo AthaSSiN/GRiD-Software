{
  "nbformat": 4,
  "nbformat_minor": 0,
  "metadata": {
    "colab": {
      "name": "virtualDataset.ipynb",
      "provenance": [],
      "mount_file_id": "1lVtKJaIuHIBiiH_1vAqDb9JHkbw9uNKj",
      "authorship_tag": "ABX9TyNNg/48ZJQbH/s/PNjndna4",
      "include_colab_link": true
    },
    "kernelspec": {
      "name": "python3",
      "display_name": "Python 3"
    },
    "accelerator": "GPU"
  },
  "cells": [
    {
      "cell_type": "markdown",
      "metadata": {
        "id": "view-in-github",
        "colab_type": "text"
      },
      "source": [
        "<a href=\"https://colab.research.google.com/github/ShivenTripathi/GRiD-R2-2020/blob/master/virtualDataset.ipynb\" target=\"_parent\"><img src=\"https://colab.research.google.com/assets/colab-badge.svg\" alt=\"Open In Colab\"/></a>"
      ]
    },
    {
      "cell_type": "code",
      "metadata": {
        "id": "H5R8AW1_Moed",
        "colab_type": "code",
        "colab": {}
      },
      "source": [
        "import pandas as pd\n",
        "from pandas import ExcelWriter\n",
        "from pandas import ExcelFile\n",
        "import os\n",
        "def oneDayImg(day):\n",
        "  dfa=pd.read_excel(str(day)+'A.xlsx')\n",
        "  la=list(dfa['Image'])\n",
        "  dfb = pd.read_excel(str(day)+'B.xlsx')\n",
        "  lb=list(dfb['Image'])\n",
        "  return (la+lb)"
      ],
      "execution_count": 2,
      "outputs": []
    },
    {
      "cell_type": "code",
      "metadata": {
        "id": "HWspSw02MqAa",
        "colab_type": "code",
        "colab": {
          "base_uri": "https://localhost:8080/",
          "height": 207
        },
        "outputId": "0ee5cab9-6575-4f30-c899-deaa1ab5f787"
      },
      "source": [
        "! pip install tqdm\n",
        "! pip install wget"
      ],
      "execution_count": 3,
      "outputs": [
        {
          "output_type": "stream",
          "text": [
            "Requirement already satisfied: tqdm in /usr/local/lib/python3.6/dist-packages (4.41.1)\n",
            "Collecting wget\n",
            "  Downloading https://files.pythonhosted.org/packages/47/6a/62e288da7bcda82b935ff0c6cfe542970f04e29c756b0e147251b2fb251f/wget-3.2.zip\n",
            "Building wheels for collected packages: wget\n",
            "  Building wheel for wget (setup.py) ... \u001b[?25l\u001b[?25hdone\n",
            "  Created wheel for wget: filename=wget-3.2-cp36-none-any.whl size=9682 sha256=c29721f05d0f9b29be8dcf58d57aa4c355c2799f7c5cef05cc774909b4a2a695\n",
            "  Stored in directory: /root/.cache/pip/wheels/40/15/30/7d8f7cea2902b4db79e3fea550d7d7b85ecb27ef992b618f3f\n",
            "Successfully built wget\n",
            "Installing collected packages: wget\n",
            "Successfully installed wget-3.2\n"
          ],
          "name": "stdout"
        }
      ]
    },
    {
      "cell_type": "code",
      "metadata": {
        "id": "6RjmCIO3MxWx",
        "colab_type": "code",
        "colab": {}
      },
      "source": [
        "% cd ~\n",
        "% cd ..\n",
        "% cd content\n",
        "! mkdir img"
      ],
      "execution_count": null,
      "outputs": []
    },
    {
      "cell_type": "code",
      "metadata": {
        "id": "xve0c8yLMrVh",
        "colab_type": "code",
        "colab": {}
      },
      "source": [
        "import wget\n",
        "from tqdm import tqdm\n",
        "def listDownloader(day):\n",
        "  os.chdir(\"/content/drive/My Drive/dataset/nordstrom\")\n",
        "  l=oneDayImg(day)\n",
        "  directory=str(day)\n",
        "  os.chdir(\"/content/img\")\n",
        "  os.mkdir(directory)\n",
        "  os.chdir(directory)\n",
        "  for i in tqdm(range(len(l))):\n",
        "    url=str(l[i])\n",
        "    try:\n",
        "      url=url.split(\"?\",1)[0]\n",
        "      wget.download(url,str(i)+'.jpg')\n",
        "    except:\n",
        "      print(\"Something went wrong\")"
      ],
      "execution_count": 12,
      "outputs": []
    },
    {
      "cell_type": "code",
      "metadata": {
        "id": "-6wS5Ja8OQPO",
        "colab_type": "code",
        "colab": {
          "base_uri": "https://localhost:8080/",
          "height": 119
        },
        "outputId": "574fa31d-54f8-45a6-83d0-51e5e9eb35cc"
      },
      "source": [
        "for i in range(1,7):  \n",
        "  listDownloader(i)"
      ],
      "execution_count": null,
      "outputs": [
        {
          "output_type": "stream",
          "text": [
            "  9%|▉         | 53/598 [00:08<01:30,  6.04it/s]"
          ],
          "name": "stderr"
        },
        {
          "output_type": "stream",
          "text": [
            "Something went wrong\n"
          ],
          "name": "stdout"
        },
        {
          "output_type": "stream",
          "text": [
            "100%|██████████| 598/598 [01:34<00:00,  6.35it/s]\n",
            "100%|██████████| 858/858 [02:17<00:00,  6.23it/s]\n",
            "100%|██████████| 933/933 [02:29<00:00,  6.26it/s]\n",
            "100%|██████████| 680/680 [01:49<00:00,  6.23it/s]\n",
            "  1%|▏         | 13/952 [00:02<03:26,  4.56it/s]"
          ],
          "name": "stderr"
        }
      ]
    },
    {
      "cell_type": "code",
      "metadata": {
        "id": "RuZjmiFGOR9t",
        "colab_type": "code",
        "colab": {}
      },
      "source": [
        ""
      ],
      "execution_count": null,
      "outputs": []
    }
  ]
}
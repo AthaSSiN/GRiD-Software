{
  "nbformat": 4,
  "nbformat_minor": 0,
  "metadata": {
    "colab": {
      "name": "NextTimeStepPrediction.ipynb",
      "provenance": [],
      "authorship_tag": "ABX9TyPUNzsF5ci1cXoflAh2XWmI",
      "include_colab_link": true
    },
    "kernelspec": {
      "name": "python3",
      "display_name": "Python 3"
    }
  },
  "cells": [
    {
      "cell_type": "markdown",
      "metadata": {
        "id": "view-in-github",
        "colab_type": "text"
      },
      "source": [
        "<a href=\"https://colab.research.google.com/github/ShivenTripathi/GRiD-R2-2020/blob/master/NextTimeStepPrediction.ipynb\" target=\"_parent\"><img src=\"https://colab.research.google.com/assets/colab-badge.svg\" alt=\"Open In Colab\"/></a>"
      ]
    },
    {
      "cell_type": "code",
      "metadata": {
        "id": "FQ71X8hqomEm",
        "colab_type": "code",
        "colab": {}
      },
      "source": [
        "#############################\n",
        "# Immediate Future Predictor#\n",
        "#############################"
      ],
      "execution_count": null,
      "outputs": []
    },
    {
      "cell_type": "code",
      "metadata": {
        "id": "Oy0dGW37osI0",
        "colab_type": "code",
        "colab": {
          "base_uri": "https://localhost:8080/",
          "height": 139
        },
        "outputId": "634d37d2-1b79-4473-c2dd-09244e0943f2"
      },
      "source": [
        "from google.colab import drive\n",
        "drive.mount('/content/drive')\n",
        "% cd /content/drive/My Drive/dataset/nordstrom/attributes"
      ],
      "execution_count": null,
      "outputs": [
        {
          "output_type": "stream",
          "text": [
            "Go to this URL in a browser: https://accounts.google.com/o/oauth2/auth?client_id=947318989803-6bn6qk8qdgf4n4g3pfee6491hc0brc4i.apps.googleusercontent.com&redirect_uri=urn%3aietf%3awg%3aoauth%3a2.0%3aoob&response_type=code&scope=email%20https%3a%2f%2fwww.googleapis.com%2fauth%2fdocs.test%20https%3a%2f%2fwww.googleapis.com%2fauth%2fdrive%20https%3a%2f%2fwww.googleapis.com%2fauth%2fdrive.photos.readonly%20https%3a%2f%2fwww.googleapis.com%2fauth%2fpeopleapi.readonly\n",
            "\n",
            "Enter your authorization code:\n",
            "··········\n",
            "Mounted at /content/drive\n",
            "/content/drive/My Drive/dataset/nordstrom/attributes\n"
          ],
          "name": "stdout"
        }
      ]
    },
    {
      "cell_type": "code",
      "metadata": {
        "id": "_s_cHXGTon_K",
        "colab_type": "code",
        "colab": {}
      },
      "source": [
        "from numpy import asarray\n",
        "from pandas import read_csv\n",
        "from pandas import DataFrame\n",
        "from pandas import concat\n",
        "from sklearn.metrics import mean_absolute_error\n",
        "from xgboost import XGBRegressor\n",
        "from matplotlib import pyplot\n",
        "import os\n",
        "import pandas\n",
        "import numpy as np\n",
        "from collections import defaultdict\n",
        "import csv\n",
        "\n",
        "def default_value_attr():\n",
        "  return \"blank\"\n",
        "\n",
        "def def_value_plot():\n",
        "  return []\n",
        "\n",
        "\n",
        "f = open(\"list_attr_cloth.txt\", \"r\")\n",
        "att_type=[]\n",
        "i=0\n",
        "for x in f:\n",
        "  if i>1:\n",
        "    x=x.split()\n",
        "    att_type.append(int(x[len(x)-1]))\n",
        "  i=i+1 \n",
        "f.close()\n",
        "\n",
        "num2word=defaultdict(default_value_attr)\n",
        "f= open(\"list_attr_cloth.txt\", \"r\")\n",
        "i=0\n",
        "for x in f:\n",
        "  if i>1:\n",
        "    s=\" \".join(x.split()[:-1])\n",
        "    num2word[i-2]=s\n",
        "  i+=1\n",
        "f.close()\n",
        "\n",
        "def dfGen(day):\n",
        "  filename=str(day)+\"A.txt\"\n",
        "  #LOAD IMG NAMES\n",
        "  f = open(filename, \"r\")\n",
        "  file_names=[]\n",
        "  i=2\n",
        "  for x in f:\n",
        "    if i%3==0:\n",
        "      file_names.append(x)\n",
        "    i=i+1  \n",
        "  f.close()\n",
        "  \n",
        "  #LOAD ATTRIBUTES FOR EACH IMAGE\n",
        "  f = open(filename, \"r\")\n",
        "  att_number=[]\n",
        "  i=1\n",
        "  for x in f:\n",
        "    if i%3==0:\n",
        "      x = x.split(\",\")\n",
        "      y=[]\n",
        "      for j in range(10):\n",
        "        y.append(int(x[j]))\n",
        "      att_number.append(y)\n",
        "    i=i+1  \n",
        "  f.close()\n",
        "\n",
        "  #CATEGORISE ATTRIBUTES\n",
        "  att=[]\n",
        "  for i in range(len(att_number)):\n",
        "    a=[]\n",
        "    for j in range(5):\n",
        "      f=0\n",
        "      for k in range(10):\n",
        "        if att_type[att_number[i][k]]==j+1:\n",
        "          f=f+1\n",
        "          if f==1:\n",
        "            b=att_number[i][k]\n",
        "          if f==2:\n",
        "            b=att_number[i][k]\n",
        "      if f==0:\n",
        "        b=-1  \n",
        "      a.append(b)\n",
        "    att.append(a)\n",
        "\n",
        "  #FINAL LIST OF  SECOND MOST POPULAR ATTRIBUTES\n",
        "  att1=[]\n",
        "  for i in range(5):\n",
        "    t=[]\n",
        "    for j in range(len(att)):\n",
        "      t.append(att[j][i])\n",
        "    att1.append(t)  \n",
        "\n",
        "  #CONVERT TO A DATAFRAME\n",
        "  df = pandas.DataFrame(data={\"source\": file_names, \"att1\": att1[0], \"att2\": att1[1], \"att3\": att1[2], \"att4\": att1[3], \"att5\": att1[4]})\n",
        "  return df\n",
        "\n",
        "\n",
        "class PredictAttribute:\n",
        "\n",
        "  def series_to_supervised(data, n_in=1, n_out=1, dropnan=True):\n",
        "\t  n_vars = 1 if type(data) is list else data.shape[1]\n",
        "\t  df = DataFrame(data)\n",
        "\t  cols = list()\n",
        "\n",
        "\t  for i in range(n_in, 0, -1):\n",
        "\t\t  cols.append(df.shift(i))\n",
        "\n",
        "\t  for i in range(0, n_out):\n",
        "\t\t  cols.append(df.shift(-i))\n",
        "\n",
        "\t  agg = concat(cols, axis=1)\n",
        "\n",
        "\t  if dropnan:\n",
        "\t\t  agg.dropna(inplace=True)\n",
        "\t  return agg.values\n",
        "\n",
        "  def predictAttr(self,days=12,attr=1):\n",
        "    entries=defaultdict(def_value_plot)\n",
        "    for i in range(1,days+1):\n",
        "      df=dfGen(i)\n",
        "      a=(df['att'+str(attr)].value_counts()/len(df.index)).to_frame('counts').transpose()\n",
        "      for column in a.columns:\n",
        "        entries[column].append(a.iloc[0][column])\n",
        "\n",
        "    with open('temp_data.csv', 'w', newline='') as csvfile:\n",
        "      fieldnames=['day','value']\n",
        "      writer = csv.DictWriter(csvfile, fieldnames=fieldnames)\n",
        "      writer.writeheader()\n",
        "      for key in entries.keys():\n",
        "        print(num2word[key])\n",
        "        for i in range(len(entries[key])):\n",
        "          writer.writerow({'day':i,'value':entries[key][i]})\n",
        "        break\n",
        "\n",
        "    series = read_csv('temp_data.csv', header=0, index_col=0)\n",
        "    values = series.values\n",
        "    train = self.series_to_supervised(values, n_in=3)\n",
        "    trainX, trainy = train[:, :-1], train[:, -1]\n",
        "    model = XGBRegressor(objective='reg:squarederror', n_estimators=100)\n",
        "    model.fit(trainX, trainy)\n",
        "    row = values[-3:].flatten()\n",
        "    yhat = model.predict(asarray([row]))\n",
        "    print('Input: %s, Predicted: %.3f' % (row, yhat[0]))\n",
        "  \n",
        "    os.remove(\"temp_data.csv\")  "
      ],
      "execution_count": null,
      "outputs": []
    },
    {
      "cell_type": "code",
      "metadata": {
        "id": "EVZpwQ9QoyXg",
        "colab_type": "code",
        "colab": {
          "base_uri": "https://localhost:8080/",
          "height": 51
        },
        "outputId": "3c4dbda7-ce04-403f-f506-f641bd09ed12"
      },
      "source": [
        "x=PredictAttribute\n",
        "x.predictAttr(x)"
      ],
      "execution_count": null,
      "outputs": [
        {
          "output_type": "stream",
          "text": [
            "stripe\n",
            "Input: [0.54950495 0.5797619  0.5625    ], Predicted: 0.539\n"
          ],
          "name": "stdout"
        }
      ]
    },
    {
      "cell_type": "code",
      "metadata": {
        "id": "63laHBXDo1XR",
        "colab_type": "code",
        "colab": {}
      },
      "source": [
        ""
      ],
      "execution_count": null,
      "outputs": []
    }
  ]
}